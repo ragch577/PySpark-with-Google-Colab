{
  "nbformat": 4,
  "nbformat_minor": 0,
  "metadata": {
    "colab": {
      "name": "pyspark.ipynb",
      "provenance": []
    },
    "kernelspec": {
      "name": "python3",
      "display_name": "Python 3"
    },
    "language_info": {
      "name": "python"
    }
  },
  "cells": [
    {
      "cell_type": "code",
      "metadata": {
        "colab": {
          "base_uri": "https://localhost:8080/"
        },
        "id": "mDpxlMsYU2H9",
        "outputId": "4a043d3b-7906-41fb-e909-62bb240010c9"
      },
      "source": [
        "from google.colab import drive\n",
        "import pathlib\n",
        "pathlib.Path().absolute()\n",
        "drive.mount('/content/gdrive')"
      ],
      "execution_count": 11,
      "outputs": [
        {
          "output_type": "stream",
          "name": "stdout",
          "text": [
            "Mounted at /content/gdrive\n"
          ]
        }
      ]
    },
    {
      "cell_type": "markdown",
      "metadata": {
        "id": "XBRScASnU_L2"
      },
      "source": [
        "> Installing PySpark is pretty much simple rather than on your local machine.\n",
        "\n",
        "> Use the following command to install PySpark on notebook\n"
      ]
    },
    {
      "cell_type": "code",
      "metadata": {
        "colab": {
          "base_uri": "https://localhost:8080/"
        },
        "id": "so5EefIiU6z5",
        "outputId": "6a5e13ce-9461-4285-8003-6d555960acb9"
      },
      "source": [
        "!pip install pyspark"
      ],
      "execution_count": 12,
      "outputs": [
        {
          "output_type": "stream",
          "name": "stdout",
          "text": [
            "Requirement already satisfied: pyspark in /usr/local/lib/python3.7/dist-packages (3.1.2)\n",
            "Requirement already satisfied: py4j==0.10.9 in /usr/local/lib/python3.7/dist-packages (from pyspark) (0.10.9)\n"
          ]
        }
      ]
    },
    {
      "cell_type": "markdown",
      "metadata": {
        "id": "SWsH9UipV3Dr"
      },
      "source": [
        "> Initialize the PySpark session."
      ]
    },
    {
      "cell_type": "code",
      "metadata": {
        "id": "tQAue95vV6qv"
      },
      "source": [
        "from pyspark.sql import SparkSession\n",
        "spark = SparkSession.builder\\\n",
        "        .master(\"local\")\\\n",
        "        .appName(\"Colab\")\\\n",
        "        .config('spark.ui.port', '4050')\\\n",
        "        .getOrCreate()"
      ],
      "execution_count": 13,
      "outputs": []
    },
    {
      "cell_type": "markdown",
      "metadata": {
        "id": "Cbt-if62WDM1"
      },
      "source": [
        "> Print the SparkSession variable as follows."
      ]
    },
    {
      "cell_type": "code",
      "metadata": {
        "colab": {
          "base_uri": "https://localhost:8080/",
          "height": 214
        },
        "id": "Maf1F9xFWhuu",
        "outputId": "7f7e7274-a8c0-48bc-af97-1e8a7a32d1e9"
      },
      "source": [
        "spark"
      ],
      "execution_count": 14,
      "outputs": [
        {
          "output_type": "execute_result",
          "data": {
            "text/html": [
              "\n",
              "            <div>\n",
              "                <p><b>SparkSession - in-memory</b></p>\n",
              "                \n",
              "        <div>\n",
              "            <p><b>SparkContext</b></p>\n",
              "\n",
              "            <p><a href=\"http://334dca1222a4:4050\">Spark UI</a></p>\n",
              "\n",
              "            <dl>\n",
              "              <dt>Version</dt>\n",
              "                <dd><code>v3.1.2</code></dd>\n",
              "              <dt>Master</dt>\n",
              "                <dd><code>local</code></dd>\n",
              "              <dt>AppName</dt>\n",
              "                <dd><code>Colab</code></dd>\n",
              "            </dl>\n",
              "        </div>\n",
              "        \n",
              "            </div>\n",
              "        "
            ],
            "text/plain": [
              "<pyspark.sql.session.SparkSession at 0x7f88fdfdfc50>"
            ]
          },
          "metadata": {},
          "execution_count": 14
        }
      ]
    },
    {
      "cell_type": "markdown",
      "metadata": {
        "id": "wd-mV01h1HIK"
      },
      "source": [
        "> Loading data into PySpark\n",
        "> Here using the washdata,\n",
        "- https://washdata.org/data\n",
        "- https://washdata.org/data/household#!/table?geo0=region&geo1=sdg\n"
      ]
    },
    {
      "cell_type": "code",
      "metadata": {
        "id": "WOmvLmHL1r3z"
      },
      "source": [
        "df = spark.read.csv('/content/gdrive/My Drive/Dataengineering/opendata_collections/washdash/washdash-download.csv', header=True)"
      ],
      "execution_count": 15,
      "outputs": []
    },
    {
      "cell_type": "markdown",
      "metadata": {
        "id": "pzYY0dXu37oK"
      },
      "source": [
        "> Data Exploration with PySpark DF"
      ]
    },
    {
      "cell_type": "code",
      "metadata": {
        "colab": {
          "base_uri": "https://localhost:8080/"
        },
        "id": "sH9ybu3X4qW3",
        "outputId": "a7cb8224-8b60-4987-da48-742915f02f76"
      },
      "source": [
        "df.show(10)"
      ],
      "execution_count": 16,
      "outputs": [
        {
          "output_type": "stream",
          "name": "stdout",
          "text": [
            "+----+--------------------+--------------+--------------+----+--------+--------------+--------------------+\n",
            "|Type|              Region|Residence Type|  Service Type|Year|Coverage|    Population|       Service level|\n",
            "+----+--------------------+--------------+--------------+----+--------+--------------+--------------------+\n",
            "| sdg|Australia and New...|         total|    Sanitation|2000|39.91334| 9120369.26473|       Basic service|\n",
            "| sdg|Australia and New...|         total|    Sanitation|2000|       0|             0|     Limited service|\n",
            "| sdg|Australia and New...|         total|    Sanitation|2000|       0|             0|     Open defecation|\n",
            "| sdg|Australia and New...|         total|    Sanitation|2000| 60.0793|13728376.93403|Safely managed se...|\n",
            "| sdg|Australia and New...|         total|    Sanitation|2000| 0.00735|    1679.80124|          Unimproved|\n",
            "| sdg|Australia and New...|         total|Drinking water|2000|99.76089|22795787.69424|      At least basic|\n",
            "| sdg|Australia and New...|         rural|Drinking water|2000|99.20068| 3505204.57043|      At least basic|\n",
            "| sdg|Australia and New...|         urban|Drinking water|2000| 7.91066| 1528100.80116|       Basic service|\n",
            "| sdg|Australia and New...|         total|Drinking water|2000|       0|             0|     Limited service|\n",
            "| sdg|Australia and New...|         rural|Drinking water|2000|       0|             0|     Limited service|\n",
            "+----+--------------------+--------------+--------------+----+--------+--------------+--------------------+\n",
            "only showing top 10 rows\n",
            "\n"
          ]
        }
      ]
    },
    {
      "cell_type": "code",
      "metadata": {
        "colab": {
          "base_uri": "https://localhost:8080/"
        },
        "id": "L9sdOZju5yrO",
        "outputId": "42a08671-1309-4dac-8bf8-ff03d6071814"
      },
      "source": [
        "df.count()"
      ],
      "execution_count": 18,
      "outputs": [
        {
          "output_type": "execute_result",
          "data": {
            "text/plain": [
              "4885"
            ]
          },
          "metadata": {},
          "execution_count": 18
        }
      ]
    }
  ]
}